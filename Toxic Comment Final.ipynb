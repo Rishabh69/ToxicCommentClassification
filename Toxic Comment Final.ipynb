{
 "cells": [
  {
   "cell_type": "markdown",
   "metadata": {},
   "source": [
    "### General Basic Packages"
   ]
  },
  {
   "cell_type": "code",
   "execution_count": 1,
   "metadata": {},
   "outputs": [],
   "source": [
    "import pandas as pd\n",
    "import numpy as np\n",
    "import matplotlib.pyplot as plt\n",
    "import seaborn as sns\n",
    "import sklearn"
   ]
  },
  {
   "cell_type": "code",
   "execution_count": 122,
   "metadata": {},
   "outputs": [],
   "source": [
    "df1= pd.read_csv('Toxtrain.csv')"
   ]
  },
  {
   "cell_type": "code",
   "execution_count": 143,
   "metadata": {},
   "outputs": [],
   "source": [
    "df = df1[['comment_text','toxic','severe_toxic','obscene','threat','insult','identity_hate']]"
   ]
  },
  {
   "cell_type": "code",
   "execution_count": 144,
   "metadata": {},
   "outputs": [],
   "source": [
    "from sklearn.cross_validation import train_test_split"
   ]
  },
  {
   "cell_type": "code",
   "execution_count": 145,
   "metadata": {},
   "outputs": [
    {
     "data": {
      "text/html": [
       "<div>\n",
       "<style scoped>\n",
       "    .dataframe tbody tr th:only-of-type {\n",
       "        vertical-align: middle;\n",
       "    }\n",
       "\n",
       "    .dataframe tbody tr th {\n",
       "        vertical-align: top;\n",
       "    }\n",
       "\n",
       "    .dataframe thead th {\n",
       "        text-align: right;\n",
       "    }\n",
       "</style>\n",
       "<table border=\"1\" class=\"dataframe\">\n",
       "  <thead>\n",
       "    <tr style=\"text-align: right;\">\n",
       "      <th></th>\n",
       "      <th>toxic</th>\n",
       "      <th>severe_toxic</th>\n",
       "      <th>obscene</th>\n",
       "      <th>threat</th>\n",
       "      <th>insult</th>\n",
       "      <th>identity_hate</th>\n",
       "    </tr>\n",
       "  </thead>\n",
       "  <tbody>\n",
       "    <tr>\n",
       "      <th>78747</th>\n",
       "      <td>0</td>\n",
       "      <td>0</td>\n",
       "      <td>0</td>\n",
       "      <td>0</td>\n",
       "      <td>0</td>\n",
       "      <td>0</td>\n",
       "    </tr>\n",
       "    <tr>\n",
       "      <th>8023</th>\n",
       "      <td>0</td>\n",
       "      <td>0</td>\n",
       "      <td>0</td>\n",
       "      <td>0</td>\n",
       "      <td>0</td>\n",
       "      <td>0</td>\n",
       "    </tr>\n",
       "    <tr>\n",
       "      <th>81476</th>\n",
       "      <td>0</td>\n",
       "      <td>0</td>\n",
       "      <td>0</td>\n",
       "      <td>0</td>\n",
       "      <td>0</td>\n",
       "      <td>0</td>\n",
       "    </tr>\n",
       "    <tr>\n",
       "      <th>54756</th>\n",
       "      <td>0</td>\n",
       "      <td>0</td>\n",
       "      <td>0</td>\n",
       "      <td>0</td>\n",
       "      <td>0</td>\n",
       "      <td>0</td>\n",
       "    </tr>\n",
       "    <tr>\n",
       "      <th>84103</th>\n",
       "      <td>0</td>\n",
       "      <td>0</td>\n",
       "      <td>0</td>\n",
       "      <td>0</td>\n",
       "      <td>0</td>\n",
       "      <td>0</td>\n",
       "    </tr>\n",
       "    <tr>\n",
       "      <th>66676</th>\n",
       "      <td>0</td>\n",
       "      <td>0</td>\n",
       "      <td>0</td>\n",
       "      <td>0</td>\n",
       "      <td>0</td>\n",
       "      <td>0</td>\n",
       "    </tr>\n",
       "    <tr>\n",
       "      <th>129375</th>\n",
       "      <td>0</td>\n",
       "      <td>0</td>\n",
       "      <td>0</td>\n",
       "      <td>0</td>\n",
       "      <td>0</td>\n",
       "      <td>0</td>\n",
       "    </tr>\n",
       "    <tr>\n",
       "      <th>23468</th>\n",
       "      <td>0</td>\n",
       "      <td>0</td>\n",
       "      <td>0</td>\n",
       "      <td>0</td>\n",
       "      <td>0</td>\n",
       "      <td>0</td>\n",
       "    </tr>\n",
       "    <tr>\n",
       "      <th>70395</th>\n",
       "      <td>0</td>\n",
       "      <td>0</td>\n",
       "      <td>0</td>\n",
       "      <td>0</td>\n",
       "      <td>0</td>\n",
       "      <td>0</td>\n",
       "    </tr>\n",
       "    <tr>\n",
       "      <th>72350</th>\n",
       "      <td>0</td>\n",
       "      <td>0</td>\n",
       "      <td>0</td>\n",
       "      <td>0</td>\n",
       "      <td>0</td>\n",
       "      <td>0</td>\n",
       "    </tr>\n",
       "  </tbody>\n",
       "</table>\n",
       "</div>"
      ],
      "text/plain": [
       "        toxic  severe_toxic  obscene  threat  insult  identity_hate\n",
       "78747       0             0        0       0       0              0\n",
       "8023        0             0        0       0       0              0\n",
       "81476       0             0        0       0       0              0\n",
       "54756       0             0        0       0       0              0\n",
       "84103       0             0        0       0       0              0\n",
       "66676       0             0        0       0       0              0\n",
       "129375      0             0        0       0       0              0\n",
       "23468       0             0        0       0       0              0\n",
       "70395       0             0        0       0       0              0\n",
       "72350       0             0        0       0       0              0"
      ]
     },
     "execution_count": 145,
     "metadata": {},
     "output_type": "execute_result"
    }
   ],
   "source": [
    "X_train.head(10)"
   ]
  },
  {
   "cell_type": "code",
   "execution_count": 146,
   "metadata": {},
   "outputs": [
    {
     "data": {
      "text/plain": [
       "<bound method NDFrame.describe of         toxic  severe_toxic  obscene  threat  insult  identity_hate\n",
       "78747       0             0        0       0       0              0\n",
       "8023        0             0        0       0       0              0\n",
       "81476       0             0        0       0       0              0\n",
       "54756       0             0        0       0       0              0\n",
       "84103       0             0        0       0       0              0\n",
       "66676       0             0        0       0       0              0\n",
       "129375      0             0        0       0       0              0\n",
       "23468       0             0        0       0       0              0\n",
       "70395       0             0        0       0       0              0\n",
       "72350       0             0        0       0       0              0\n",
       "21362       0             0        0       0       0              0\n",
       "141800      0             0        0       0       0              0\n",
       "53536       0             0        0       0       0              0\n",
       "76947       0             0        0       0       0              0\n",
       "144726      0             0        0       0       0              0\n",
       "16933       0             0        0       0       0              0\n",
       "144889      1             0        1       0       0              0\n",
       "83416       0             0        0       0       0              0\n",
       "11797       0             0        0       0       0              0\n",
       "100513      0             0        0       0       0              0\n",
       "112263      0             0        0       0       0              0\n",
       "131805      1             0        0       0       0              0\n",
       "37646       0             0        0       0       0              0\n",
       "92398       0             0        0       0       0              0\n",
       "44678       0             0        0       0       0              0\n",
       "22410       0             0        0       0       0              0\n",
       "83848       0             0        0       0       0              0\n",
       "86814       1             0        0       0       0              0\n",
       "7316        0             0        0       0       0              0\n",
       "32245       0             0        0       0       0              0\n",
       "...       ...           ...      ...     ...     ...            ...\n",
       "144130      0             0        0       0       0              0\n",
       "92959       0             0        0       0       0              0\n",
       "9907        0             0        1       0       1              0\n",
       "24425       0             0        0       0       0              0\n",
       "105124      0             0        0       0       0              0\n",
       "68718       0             0        0       0       0              0\n",
       "69434       0             0        0       0       0              0\n",
       "76944       0             0        0       0       0              0\n",
       "47314       0             0        0       0       0              0\n",
       "62910       0             0        0       0       0              0\n",
       "40937       0             0        0       0       0              0\n",
       "16425       0             0        0       0       0              0\n",
       "16009       0             0        0       0       0              0\n",
       "147833      0             0        0       0       0              0\n",
       "67730       0             0        0       0       0              0\n",
       "126017      0             0        0       0       0              0\n",
       "107564      0             0        0       0       0              0\n",
       "63515       0             0        0       0       0              0\n",
       "158800      0             0        0       0       0              0\n",
       "20176       0             0        0       0       0              0\n",
       "51824       0             0        0       0       0              0\n",
       "34750       1             0        0       0       1              0\n",
       "33800       0             0        0       0       0              0\n",
       "59465       0             0        0       0       0              0\n",
       "136592      0             0        0       0       0              0\n",
       "121974      0             0        0       0       0              0\n",
       "124605      0             0        0       0       0              0\n",
       "20463       0             0        0       0       0              0\n",
       "18638       0             0        0       0       0              0\n",
       "35683       0             0        0       0       0              0\n",
       "\n",
       "[127656 rows x 6 columns]>"
      ]
     },
     "execution_count": 146,
     "metadata": {},
     "output_type": "execute_result"
    }
   ],
   "source": [
    "X_train.describe\n"
   ]
  },
  {
   "cell_type": "code",
   "execution_count": 147,
   "metadata": {},
   "outputs": [
    {
     "data": {
      "text/plain": [
       "(127656, 6)"
      ]
     },
     "execution_count": 147,
     "metadata": {},
     "output_type": "execute_result"
    }
   ],
   "source": [
    "X_train.shape\n"
   ]
  },
  {
   "cell_type": "code",
   "execution_count": 148,
   "metadata": {},
   "outputs": [
    {
     "data": {
      "text/html": [
       "<div>\n",
       "<style scoped>\n",
       "    .dataframe tbody tr th:only-of-type {\n",
       "        vertical-align: middle;\n",
       "    }\n",
       "\n",
       "    .dataframe tbody tr th {\n",
       "        vertical-align: top;\n",
       "    }\n",
       "\n",
       "    .dataframe thead th {\n",
       "        text-align: right;\n",
       "    }\n",
       "</style>\n",
       "<table border=\"1\" class=\"dataframe\">\n",
       "  <thead>\n",
       "    <tr style=\"text-align: right;\">\n",
       "      <th></th>\n",
       "      <th>toxic</th>\n",
       "      <th>severe_toxic</th>\n",
       "      <th>obscene</th>\n",
       "      <th>threat</th>\n",
       "      <th>insult</th>\n",
       "      <th>identity_hate</th>\n",
       "    </tr>\n",
       "  </thead>\n",
       "  <tbody>\n",
       "    <tr>\n",
       "      <th>toxic</th>\n",
       "      <td>1.000000</td>\n",
       "      <td>0.309045</td>\n",
       "      <td>0.676405</td>\n",
       "      <td>0.155669</td>\n",
       "      <td>0.647289</td>\n",
       "      <td>0.262765</td>\n",
       "    </tr>\n",
       "    <tr>\n",
       "      <th>severe_toxic</th>\n",
       "      <td>0.309045</td>\n",
       "      <td>1.000000</td>\n",
       "      <td>0.404448</td>\n",
       "      <td>0.119078</td>\n",
       "      <td>0.375988</td>\n",
       "      <td>0.199084</td>\n",
       "    </tr>\n",
       "    <tr>\n",
       "      <th>obscene</th>\n",
       "      <td>0.676405</td>\n",
       "      <td>0.404448</td>\n",
       "      <td>1.000000</td>\n",
       "      <td>0.139509</td>\n",
       "      <td>0.741278</td>\n",
       "      <td>0.282233</td>\n",
       "    </tr>\n",
       "    <tr>\n",
       "      <th>threat</th>\n",
       "      <td>0.155669</td>\n",
       "      <td>0.119078</td>\n",
       "      <td>0.139509</td>\n",
       "      <td>1.000000</td>\n",
       "      <td>0.149442</td>\n",
       "      <td>0.115425</td>\n",
       "    </tr>\n",
       "    <tr>\n",
       "      <th>insult</th>\n",
       "      <td>0.647289</td>\n",
       "      <td>0.375988</td>\n",
       "      <td>0.741278</td>\n",
       "      <td>0.149442</td>\n",
       "      <td>1.000000</td>\n",
       "      <td>0.334025</td>\n",
       "    </tr>\n",
       "    <tr>\n",
       "      <th>identity_hate</th>\n",
       "      <td>0.262765</td>\n",
       "      <td>0.199084</td>\n",
       "      <td>0.282233</td>\n",
       "      <td>0.115425</td>\n",
       "      <td>0.334025</td>\n",
       "      <td>1.000000</td>\n",
       "    </tr>\n",
       "  </tbody>\n",
       "</table>\n",
       "</div>"
      ],
      "text/plain": [
       "                  toxic  severe_toxic   obscene    threat    insult  \\\n",
       "toxic          1.000000      0.309045  0.676405  0.155669  0.647289   \n",
       "severe_toxic   0.309045      1.000000  0.404448  0.119078  0.375988   \n",
       "obscene        0.676405      0.404448  1.000000  0.139509  0.741278   \n",
       "threat         0.155669      0.119078  0.139509  1.000000  0.149442   \n",
       "insult         0.647289      0.375988  0.741278  0.149442  1.000000   \n",
       "identity_hate  0.262765      0.199084  0.282233  0.115425  0.334025   \n",
       "\n",
       "               identity_hate  \n",
       "toxic               0.262765  \n",
       "severe_toxic        0.199084  \n",
       "obscene             0.282233  \n",
       "threat              0.115425  \n",
       "insult              0.334025  \n",
       "identity_hate       1.000000  "
      ]
     },
     "execution_count": 148,
     "metadata": {},
     "output_type": "execute_result"
    }
   ],
   "source": [
    "X_train.corr()\n"
   ]
  },
  {
   "cell_type": "code",
   "execution_count": 149,
   "metadata": {},
   "outputs": [
    {
     "data": {
      "text/plain": [
       "<bound method DataFrame.info of         toxic  severe_toxic  obscene  threat  insult  identity_hate\n",
       "78747       0             0        0       0       0              0\n",
       "8023        0             0        0       0       0              0\n",
       "81476       0             0        0       0       0              0\n",
       "54756       0             0        0       0       0              0\n",
       "84103       0             0        0       0       0              0\n",
       "66676       0             0        0       0       0              0\n",
       "129375      0             0        0       0       0              0\n",
       "23468       0             0        0       0       0              0\n",
       "70395       0             0        0       0       0              0\n",
       "72350       0             0        0       0       0              0\n",
       "21362       0             0        0       0       0              0\n",
       "141800      0             0        0       0       0              0\n",
       "53536       0             0        0       0       0              0\n",
       "76947       0             0        0       0       0              0\n",
       "144726      0             0        0       0       0              0\n",
       "16933       0             0        0       0       0              0\n",
       "144889      1             0        1       0       0              0\n",
       "83416       0             0        0       0       0              0\n",
       "11797       0             0        0       0       0              0\n",
       "100513      0             0        0       0       0              0\n",
       "112263      0             0        0       0       0              0\n",
       "131805      1             0        0       0       0              0\n",
       "37646       0             0        0       0       0              0\n",
       "92398       0             0        0       0       0              0\n",
       "44678       0             0        0       0       0              0\n",
       "22410       0             0        0       0       0              0\n",
       "83848       0             0        0       0       0              0\n",
       "86814       1             0        0       0       0              0\n",
       "7316        0             0        0       0       0              0\n",
       "32245       0             0        0       0       0              0\n",
       "...       ...           ...      ...     ...     ...            ...\n",
       "144130      0             0        0       0       0              0\n",
       "92959       0             0        0       0       0              0\n",
       "9907        0             0        1       0       1              0\n",
       "24425       0             0        0       0       0              0\n",
       "105124      0             0        0       0       0              0\n",
       "68718       0             0        0       0       0              0\n",
       "69434       0             0        0       0       0              0\n",
       "76944       0             0        0       0       0              0\n",
       "47314       0             0        0       0       0              0\n",
       "62910       0             0        0       0       0              0\n",
       "40937       0             0        0       0       0              0\n",
       "16425       0             0        0       0       0              0\n",
       "16009       0             0        0       0       0              0\n",
       "147833      0             0        0       0       0              0\n",
       "67730       0             0        0       0       0              0\n",
       "126017      0             0        0       0       0              0\n",
       "107564      0             0        0       0       0              0\n",
       "63515       0             0        0       0       0              0\n",
       "158800      0             0        0       0       0              0\n",
       "20176       0             0        0       0       0              0\n",
       "51824       0             0        0       0       0              0\n",
       "34750       1             0        0       0       1              0\n",
       "33800       0             0        0       0       0              0\n",
       "59465       0             0        0       0       0              0\n",
       "136592      0             0        0       0       0              0\n",
       "121974      0             0        0       0       0              0\n",
       "124605      0             0        0       0       0              0\n",
       "20463       0             0        0       0       0              0\n",
       "18638       0             0        0       0       0              0\n",
       "35683       0             0        0       0       0              0\n",
       "\n",
       "[127656 rows x 6 columns]>"
      ]
     },
     "execution_count": 149,
     "metadata": {},
     "output_type": "execute_result"
    }
   ],
   "source": [
    "X_train.info\n"
   ]
  },
  {
   "cell_type": "code",
   "execution_count": 150,
   "metadata": {},
   "outputs": [
    {
     "data": {
      "text/plain": [
       "Index(['toxic', 'severe_toxic', 'obscene', 'threat', 'insult',\n",
       "       'identity_hate'],\n",
       "      dtype='object')"
      ]
     },
     "execution_count": 150,
     "metadata": {},
     "output_type": "execute_result"
    }
   ],
   "source": [
    "X_train.columns\n"
   ]
  },
  {
   "cell_type": "code",
   "execution_count": 151,
   "metadata": {},
   "outputs": [
    {
     "data": {
      "text/html": [
       "<div>\n",
       "<style scoped>\n",
       "    .dataframe tbody tr th:only-of-type {\n",
       "        vertical-align: middle;\n",
       "    }\n",
       "\n",
       "    .dataframe tbody tr th {\n",
       "        vertical-align: top;\n",
       "    }\n",
       "\n",
       "    .dataframe thead th {\n",
       "        text-align: right;\n",
       "    }\n",
       "</style>\n",
       "<table border=\"1\" class=\"dataframe\">\n",
       "  <thead>\n",
       "    <tr style=\"text-align: right;\">\n",
       "      <th></th>\n",
       "      <th>severe_toxic</th>\n",
       "      <th>obscene</th>\n",
       "      <th>threat</th>\n",
       "      <th>insult</th>\n",
       "      <th>identity_hate</th>\n",
       "    </tr>\n",
       "    <tr>\n",
       "      <th>toxic</th>\n",
       "      <th></th>\n",
       "      <th></th>\n",
       "      <th></th>\n",
       "      <th></th>\n",
       "      <th></th>\n",
       "    </tr>\n",
       "  </thead>\n",
       "  <tbody>\n",
       "    <tr>\n",
       "      <th>0</th>\n",
       "      <td>0</td>\n",
       "      <td>412</td>\n",
       "      <td>26</td>\n",
       "      <td>433</td>\n",
       "      <td>81</td>\n",
       "    </tr>\n",
       "    <tr>\n",
       "      <th>1</th>\n",
       "      <td>1286</td>\n",
       "      <td>6362</td>\n",
       "      <td>358</td>\n",
       "      <td>5905</td>\n",
       "      <td>1022</td>\n",
       "    </tr>\n",
       "  </tbody>\n",
       "</table>\n",
       "</div>"
      ],
      "text/plain": [
       "       severe_toxic  obscene  threat  insult  identity_hate\n",
       "toxic                                                      \n",
       "0                 0      412      26     433             81\n",
       "1              1286     6362     358    5905           1022"
      ]
     },
     "execution_count": 151,
     "metadata": {},
     "output_type": "execute_result"
    }
   ],
   "source": [
    "X_train.groupby(['toxic']).sum()\n"
   ]
  },
  {
   "cell_type": "code",
   "execution_count": 152,
   "metadata": {},
   "outputs": [
    {
     "data": {
      "text/html": [
       "<div>\n",
       "<style scoped>\n",
       "    .dataframe tbody tr th:only-of-type {\n",
       "        vertical-align: middle;\n",
       "    }\n",
       "\n",
       "    .dataframe tbody tr th {\n",
       "        vertical-align: top;\n",
       "    }\n",
       "\n",
       "    .dataframe thead th {\n",
       "        text-align: right;\n",
       "    }\n",
       "</style>\n",
       "<table border=\"1\" class=\"dataframe\">\n",
       "  <thead>\n",
       "    <tr style=\"text-align: right;\">\n",
       "      <th></th>\n",
       "      <th>toxic</th>\n",
       "      <th>obscene</th>\n",
       "      <th>threat</th>\n",
       "      <th>insult</th>\n",
       "      <th>identity_hate</th>\n",
       "    </tr>\n",
       "    <tr>\n",
       "      <th>severe_toxic</th>\n",
       "      <th></th>\n",
       "      <th></th>\n",
       "      <th></th>\n",
       "      <th></th>\n",
       "      <th></th>\n",
       "    </tr>\n",
       "  </thead>\n",
       "  <tbody>\n",
       "    <tr>\n",
       "      <th>0</th>\n",
       "      <td>11006</td>\n",
       "      <td>5550</td>\n",
       "      <td>297</td>\n",
       "      <td>5233</td>\n",
       "      <td>857</td>\n",
       "    </tr>\n",
       "    <tr>\n",
       "      <th>1</th>\n",
       "      <td>1286</td>\n",
       "      <td>1224</td>\n",
       "      <td>87</td>\n",
       "      <td>1105</td>\n",
       "      <td>246</td>\n",
       "    </tr>\n",
       "  </tbody>\n",
       "</table>\n",
       "</div>"
      ],
      "text/plain": [
       "              toxic  obscene  threat  insult  identity_hate\n",
       "severe_toxic                                               \n",
       "0             11006     5550     297    5233            857\n",
       "1              1286     1224      87    1105            246"
      ]
     },
     "execution_count": 152,
     "metadata": {},
     "output_type": "execute_result"
    }
   ],
   "source": [
    "X_train.groupby(['severe_toxic']).sum()\n"
   ]
  },
  {
   "cell_type": "code",
   "execution_count": 153,
   "metadata": {},
   "outputs": [
    {
     "data": {
      "text/html": [
       "<div>\n",
       "<style scoped>\n",
       "    .dataframe tbody tr th:only-of-type {\n",
       "        vertical-align: middle;\n",
       "    }\n",
       "\n",
       "    .dataframe tbody tr th {\n",
       "        vertical-align: top;\n",
       "    }\n",
       "\n",
       "    .dataframe thead th {\n",
       "        text-align: right;\n",
       "    }\n",
       "</style>\n",
       "<table border=\"1\" class=\"dataframe\">\n",
       "  <thead>\n",
       "    <tr style=\"text-align: right;\">\n",
       "      <th></th>\n",
       "      <th>toxic</th>\n",
       "      <th>severe_toxic</th>\n",
       "      <th>threat</th>\n",
       "      <th>insult</th>\n",
       "      <th>identity_hate</th>\n",
       "    </tr>\n",
       "    <tr>\n",
       "      <th>obscene</th>\n",
       "      <th></th>\n",
       "      <th></th>\n",
       "      <th></th>\n",
       "      <th></th>\n",
       "      <th></th>\n",
       "    </tr>\n",
       "  </thead>\n",
       "  <tbody>\n",
       "    <tr>\n",
       "      <th>0</th>\n",
       "      <td>5930</td>\n",
       "      <td>62</td>\n",
       "      <td>145</td>\n",
       "      <td>1394</td>\n",
       "      <td>297</td>\n",
       "    </tr>\n",
       "    <tr>\n",
       "      <th>1</th>\n",
       "      <td>6362</td>\n",
       "      <td>1224</td>\n",
       "      <td>239</td>\n",
       "      <td>4944</td>\n",
       "      <td>806</td>\n",
       "    </tr>\n",
       "  </tbody>\n",
       "</table>\n",
       "</div>"
      ],
      "text/plain": [
       "         toxic  severe_toxic  threat  insult  identity_hate\n",
       "obscene                                                    \n",
       "0         5930            62     145    1394            297\n",
       "1         6362          1224     239    4944            806"
      ]
     },
     "execution_count": 153,
     "metadata": {},
     "output_type": "execute_result"
    }
   ],
   "source": [
    "X_train.groupby(['obscene']).sum()\n"
   ]
  },
  {
   "cell_type": "code",
   "execution_count": 154,
   "metadata": {},
   "outputs": [
    {
     "data": {
      "text/html": [
       "<div>\n",
       "<style scoped>\n",
       "    .dataframe tbody tr th:only-of-type {\n",
       "        vertical-align: middle;\n",
       "    }\n",
       "\n",
       "    .dataframe tbody tr th {\n",
       "        vertical-align: top;\n",
       "    }\n",
       "\n",
       "    .dataframe thead th {\n",
       "        text-align: right;\n",
       "    }\n",
       "</style>\n",
       "<table border=\"1\" class=\"dataframe\">\n",
       "  <thead>\n",
       "    <tr style=\"text-align: right;\">\n",
       "      <th></th>\n",
       "      <th>toxic</th>\n",
       "      <th>severe_toxic</th>\n",
       "      <th>obscene</th>\n",
       "      <th>insult</th>\n",
       "      <th>identity_hate</th>\n",
       "    </tr>\n",
       "    <tr>\n",
       "      <th>threat</th>\n",
       "      <th></th>\n",
       "      <th></th>\n",
       "      <th></th>\n",
       "      <th></th>\n",
       "      <th></th>\n",
       "    </tr>\n",
       "  </thead>\n",
       "  <tbody>\n",
       "    <tr>\n",
       "      <th>0</th>\n",
       "      <td>11934</td>\n",
       "      <td>1199</td>\n",
       "      <td>6535</td>\n",
       "      <td>6092</td>\n",
       "      <td>1025</td>\n",
       "    </tr>\n",
       "    <tr>\n",
       "      <th>1</th>\n",
       "      <td>358</td>\n",
       "      <td>87</td>\n",
       "      <td>239</td>\n",
       "      <td>246</td>\n",
       "      <td>78</td>\n",
       "    </tr>\n",
       "  </tbody>\n",
       "</table>\n",
       "</div>"
      ],
      "text/plain": [
       "        toxic  severe_toxic  obscene  insult  identity_hate\n",
       "threat                                                     \n",
       "0       11934          1199     6535    6092           1025\n",
       "1         358            87      239     246             78"
      ]
     },
     "execution_count": 154,
     "metadata": {},
     "output_type": "execute_result"
    }
   ],
   "source": [
    "X_train.groupby(['threat']).sum()\n"
   ]
  },
  {
   "cell_type": "code",
   "execution_count": 155,
   "metadata": {},
   "outputs": [
    {
     "data": {
      "text/html": [
       "<div>\n",
       "<style scoped>\n",
       "    .dataframe tbody tr th:only-of-type {\n",
       "        vertical-align: middle;\n",
       "    }\n",
       "\n",
       "    .dataframe tbody tr th {\n",
       "        vertical-align: top;\n",
       "    }\n",
       "\n",
       "    .dataframe thead th {\n",
       "        text-align: right;\n",
       "    }\n",
       "</style>\n",
       "<table border=\"1\" class=\"dataframe\">\n",
       "  <thead>\n",
       "    <tr style=\"text-align: right;\">\n",
       "      <th></th>\n",
       "      <th>toxic</th>\n",
       "      <th>severe_toxic</th>\n",
       "      <th>obscene</th>\n",
       "      <th>threat</th>\n",
       "      <th>identity_hate</th>\n",
       "    </tr>\n",
       "    <tr>\n",
       "      <th>insult</th>\n",
       "      <th></th>\n",
       "      <th></th>\n",
       "      <th></th>\n",
       "      <th></th>\n",
       "      <th></th>\n",
       "    </tr>\n",
       "  </thead>\n",
       "  <tbody>\n",
       "    <tr>\n",
       "      <th>0</th>\n",
       "      <td>6387</td>\n",
       "      <td>181</td>\n",
       "      <td>1830</td>\n",
       "      <td>138</td>\n",
       "      <td>191</td>\n",
       "    </tr>\n",
       "    <tr>\n",
       "      <th>1</th>\n",
       "      <td>5905</td>\n",
       "      <td>1105</td>\n",
       "      <td>4944</td>\n",
       "      <td>246</td>\n",
       "      <td>912</td>\n",
       "    </tr>\n",
       "  </tbody>\n",
       "</table>\n",
       "</div>"
      ],
      "text/plain": [
       "        toxic  severe_toxic  obscene  threat  identity_hate\n",
       "insult                                                     \n",
       "0        6387           181     1830     138            191\n",
       "1        5905          1105     4944     246            912"
      ]
     },
     "execution_count": 155,
     "metadata": {},
     "output_type": "execute_result"
    }
   ],
   "source": [
    "X_train.groupby(['insult']).sum()\n"
   ]
  },
  {
   "cell_type": "code",
   "execution_count": 156,
   "metadata": {},
   "outputs": [
    {
     "data": {
      "text/html": [
       "<div>\n",
       "<style scoped>\n",
       "    .dataframe tbody tr th:only-of-type {\n",
       "        vertical-align: middle;\n",
       "    }\n",
       "\n",
       "    .dataframe tbody tr th {\n",
       "        vertical-align: top;\n",
       "    }\n",
       "\n",
       "    .dataframe thead th {\n",
       "        text-align: right;\n",
       "    }\n",
       "</style>\n",
       "<table border=\"1\" class=\"dataframe\">\n",
       "  <thead>\n",
       "    <tr style=\"text-align: right;\">\n",
       "      <th></th>\n",
       "      <th>toxic</th>\n",
       "      <th>severe_toxic</th>\n",
       "      <th>obscene</th>\n",
       "      <th>threat</th>\n",
       "      <th>insult</th>\n",
       "    </tr>\n",
       "    <tr>\n",
       "      <th>identity_hate</th>\n",
       "      <th></th>\n",
       "      <th></th>\n",
       "      <th></th>\n",
       "      <th></th>\n",
       "      <th></th>\n",
       "    </tr>\n",
       "  </thead>\n",
       "  <tbody>\n",
       "    <tr>\n",
       "      <th>0</th>\n",
       "      <td>11270</td>\n",
       "      <td>1040</td>\n",
       "      <td>5968</td>\n",
       "      <td>306</td>\n",
       "      <td>5426</td>\n",
       "    </tr>\n",
       "    <tr>\n",
       "      <th>1</th>\n",
       "      <td>1022</td>\n",
       "      <td>246</td>\n",
       "      <td>806</td>\n",
       "      <td>78</td>\n",
       "      <td>912</td>\n",
       "    </tr>\n",
       "  </tbody>\n",
       "</table>\n",
       "</div>"
      ],
      "text/plain": [
       "               toxic  severe_toxic  obscene  threat  insult\n",
       "identity_hate                                              \n",
       "0              11270          1040     5968     306    5426\n",
       "1               1022           246      806      78     912"
      ]
     },
     "execution_count": 156,
     "metadata": {},
     "output_type": "execute_result"
    }
   ],
   "source": [
    "X_train.groupby(['identity_hate']).sum()\n"
   ]
  },
  {
   "cell_type": "code",
   "execution_count": 157,
   "metadata": {},
   "outputs": [
    {
     "data": {
      "text/html": [
       "<div>\n",
       "<style scoped>\n",
       "    .dataframe tbody tr th:only-of-type {\n",
       "        vertical-align: middle;\n",
       "    }\n",
       "\n",
       "    .dataframe tbody tr th {\n",
       "        vertical-align: top;\n",
       "    }\n",
       "\n",
       "    .dataframe thead th {\n",
       "        text-align: right;\n",
       "    }\n",
       "</style>\n",
       "<table border=\"1\" class=\"dataframe\">\n",
       "  <thead>\n",
       "    <tr style=\"text-align: right;\">\n",
       "      <th></th>\n",
       "      <th>toxic</th>\n",
       "      <th>severe_toxic</th>\n",
       "      <th>obscene</th>\n",
       "      <th>threat</th>\n",
       "      <th>insult</th>\n",
       "      <th>identity_hate</th>\n",
       "    </tr>\n",
       "  </thead>\n",
       "  <tbody>\n",
       "    <tr>\n",
       "      <th>78747</th>\n",
       "      <td>0</td>\n",
       "      <td>0</td>\n",
       "      <td>0</td>\n",
       "      <td>0</td>\n",
       "      <td>0</td>\n",
       "      <td>0</td>\n",
       "    </tr>\n",
       "    <tr>\n",
       "      <th>8023</th>\n",
       "      <td>0</td>\n",
       "      <td>0</td>\n",
       "      <td>0</td>\n",
       "      <td>0</td>\n",
       "      <td>0</td>\n",
       "      <td>0</td>\n",
       "    </tr>\n",
       "    <tr>\n",
       "      <th>81476</th>\n",
       "      <td>0</td>\n",
       "      <td>0</td>\n",
       "      <td>0</td>\n",
       "      <td>0</td>\n",
       "      <td>0</td>\n",
       "      <td>0</td>\n",
       "    </tr>\n",
       "    <tr>\n",
       "      <th>54756</th>\n",
       "      <td>0</td>\n",
       "      <td>0</td>\n",
       "      <td>0</td>\n",
       "      <td>0</td>\n",
       "      <td>0</td>\n",
       "      <td>0</td>\n",
       "    </tr>\n",
       "    <tr>\n",
       "      <th>84103</th>\n",
       "      <td>0</td>\n",
       "      <td>0</td>\n",
       "      <td>0</td>\n",
       "      <td>0</td>\n",
       "      <td>0</td>\n",
       "      <td>0</td>\n",
       "    </tr>\n",
       "  </tbody>\n",
       "</table>\n",
       "</div>"
      ],
      "text/plain": [
       "       toxic  severe_toxic  obscene  threat  insult  identity_hate\n",
       "78747      0             0        0       0       0              0\n",
       "8023       0             0        0       0       0              0\n",
       "81476      0             0        0       0       0              0\n",
       "54756      0             0        0       0       0              0\n",
       "84103      0             0        0       0       0              0"
      ]
     },
     "execution_count": 157,
     "metadata": {},
     "output_type": "execute_result"
    }
   ],
   "source": [
    "X_train.head()"
   ]
  },
  {
   "cell_type": "markdown",
   "metadata": {},
   "source": [
    "# NAIVE BAYES CLASSIFIER."
   ]
  },
  {
   "cell_type": "code",
   "execution_count": 158,
   "metadata": {},
   "outputs": [],
   "source": [
    "import sklearn\n",
    "from sklearn.naive_bayes import MultinomialNB\n",
    "from sklearn import naive_bayes"
   ]
  },
  {
   "cell_type": "markdown",
   "metadata": {},
   "source": [
    "IMPORTING COUNT VECTORIZER FROM SKLearn"
   ]
  },
  {
   "cell_type": "code",
   "execution_count": 159,
   "metadata": {},
   "outputs": [],
   "source": [
    "from sklearn.feature_extraction.text import CountVectorizer\n",
    "cv=CountVectorizer()"
   ]
  },
  {
   "cell_type": "markdown",
   "metadata": {},
   "source": [
    "# Predicting Toxic Comments Stepwise"
   ]
  },
  {
   "cell_type": "code",
   "execution_count": 160,
   "metadata": {},
   "outputs": [
    {
     "name": "stdout",
     "output_type": "stream",
     "text": [
      "(127656, 7) (127656,)\n",
      "(31915, 7) (31915,)\n",
      "(127656, 2373170)\n",
      "(127656,)\n"
     ]
    }
   ],
   "source": [
    "y = df.toxic\n",
    "X_train, X_test, y_train, y_test = train_test_split(df,y, test_size=0.2, random_state = 5)\n",
    "print(X_train.shape, y_train.shape)\n",
    "print(X_test.shape, y_test.shape)\n",
    "###PREDICTING TOXIC\n",
    "from sklearn.feature_extraction.text import CountVectorizer\n",
    "cv=CountVectorizer(stop_words='english',ngram_range=(1,2))\n",
    " \n",
    "Toxic_col=X_train.toxic\n",
    "x=cv.fit_transform(X_train.comment_text)\n",
    "print(x.shape)\n",
    "print(Toxic_col.shape)"
   ]
  },
  {
   "cell_type": "code",
   "execution_count": 161,
   "metadata": {},
   "outputs": [
    {
     "data": {
      "text/plain": [
       "<127656x2373170 sparse matrix of type '<class 'numpy.int64'>'\n",
       "\twith 6977066 stored elements in Compressed Sparse Row format>"
      ]
     },
     "execution_count": 161,
     "metadata": {},
     "output_type": "execute_result"
    }
   ],
   "source": [
    "x"
   ]
  },
  {
   "cell_type": "markdown",
   "metadata": {},
   "source": [
    "### This shows that count vectoriser transforms our training data into a sparse matrix of 159571 rows( Which are the no. of comments in our data) and 189775 columns which are the number of word features."
   ]
  },
  {
   "cell_type": "code",
   "execution_count": 162,
   "metadata": {},
   "outputs": [
    {
     "data": {
      "text/plain": [
       "MultinomialNB(alpha=1.0, class_prior=None, fit_prior=True)"
      ]
     },
     "execution_count": 162,
     "metadata": {},
     "output_type": "execute_result"
    }
   ],
   "source": [
    "clf= naive_bayes.MultinomialNB()\n",
    "clf.fit(x,Toxic_col)"
   ]
  },
  {
   "cell_type": "code",
   "execution_count": 163,
   "metadata": {},
   "outputs": [
    {
     "data": {
      "text/plain": [
       "38367     whole nickers comment, you deserved it for bei...\n",
       "81965                  REDIRECT Talk:Lowland red forest rat\n",
       "23037     I don't want you to keep reverting me, so kind...\n",
       "40710     Last warning for suppourting sock pupettry \\n\\...\n",
       "30075     \"\\nI believe HC is a talented writer and artis...\n",
       "76368            , I don't need the archive on the old page\n",
       "67945     Autofellatio redux \\n\\nWill, there appears to ...\n",
       "121171                                Answer: I can't this.\n",
       "28014     \"\\n\\nOk, Thank you for your help ^_^ ...now ab...\n",
       "133798    \"\\n\\n You have been reported for Vandalism \\n\\...\n",
       "110465    Helen Arthington-Davy\\n\\nIt seems that Helen A...\n",
       "51974     Thanks Tim - I'm learning! Quite difficult at ...\n",
       "128264    You horrid little mincing poofter \\n\\nI've got...\n",
       "17581     List of premature obituaries\\nHi Jean-Sebastie...\n",
       "1589      I have proposed some of the latest pic's for I...\n",
       "96648     Indeed it is not called that, the reason for t...\n",
       "153277    \"Public information is great! The Georgia Dept...\n",
       "43004     \":::::I will grant you that I was perhaps demo...\n",
       "56604     \"\\n\\n Rostling \\n\\nRostling is a alternative f...\n",
       "127681    History\\nI provided a brief history of the wri...\n",
       "113639    Lucky? I will prove that you are wrong. This a...\n",
       "125607    \"\\n Not really interested in you, Eisfbnore. Y...\n",
       "9887      Regarding edits made to Ashland, Kentucky \\nPl...\n",
       "88973     I mean seriously, who are you? Are you joking?...\n",
       "3576      I was listening to the song stay, and it had t...\n",
       "16527                                  TemplateData is here\n",
       "4581      Who the hell are you, and where did you get th...\n",
       "32063     Can you do a box for Raja Maharaj Singh.  Cric...\n",
       "51030     Pulses Album changes \\n\\nUm, I did my best job...\n",
       "9213      2013 (UTC)\\n\\n I don't think any human can acc...\n",
       "                                ...                        \n",
       "17216     Its completely crazy, off the wall nuts, to su...\n",
       "77027     I was just saying cause the first post in the ...\n",
       "140639    I know this is nearly 5 years old, but to answ...\n",
       "35196     England Society (Keele University) \\n\\nRegan, ...\n",
       "96992     PS: I almost forgot. Having Bowern here on boa...\n",
       "65575              Many thanks.  16:46, 25 April 2007 (GMT)\n",
       "90643     OK, so now UNESCO is on a list that one gets t...\n",
       "71452                     DAYLANS A LOOSER AND IK KANT SPEL\n",
       "81365     \" 2013 (UTC)\\nThe fact that there don't appear...\n",
       "8329      \"\\n\\nHey there buddy, I am back:\\n\\n(a quote f...\n",
       "86845     \"\\n\\nI would hope that you read both the sourc...\n",
       "40015     \"\\n\\nNo personal attacks were made.  Also you ...\n",
       "100216        or maybe that rules cannot replace judgement?\n",
       "141024    \"\\n\\nE-mail subject line incorrect\\n\"\"It arriv...\n",
       "123515    I noticed that user, CJ DUB, the european-hati...\n",
       "113274    I am Lucy Lennon 4me. I only made a comment he...\n",
       "80009     However it does say that OSHA believes hexane ...\n",
       "22695     \"\\nOh. Yeah, I hate when that happens, like ot...\n",
       "47156     ]] Also, as other users state, this is a compe...\n",
       "86032                   Date added to clarify the timeline.\n",
       "5042      \"\\n\\n Technocracy Movement \\n\\nHello! Thanks f...\n",
       "97176     Edit Request: Dead External Links cleanup \\n\\n...\n",
       "137083    Although I agree with the general thrust of yo...\n",
       "68760     \"\\n\\n Your streak of bad behaviour \\n\\nIs very...\n",
       "145259    Chinese People\\nPlease respond to my discussio...\n",
       "12563               Note  \\n\\nRawlins uses 128.220.212.169.\n",
       "94312     \"\\nWhat are you talking about, Darkstar? Not a...\n",
       "95575     Vandalism\\nSomeone has vandalised this page, c...\n",
       "56904     Well clearly in the coincidence page of Jerome...\n",
       "151794    Adoption\\nDrk Guy, I noticed that you're reque...\n",
       "Name: comment_text, Length: 31915, dtype: object"
      ]
     },
     "execution_count": 163,
     "metadata": {},
     "output_type": "execute_result"
    }
   ],
   "source": [
    "X_test.comment_text"
   ]
  },
  {
   "cell_type": "code",
   "execution_count": 164,
   "metadata": {},
   "outputs": [],
   "source": [
    "z=cv.transform(X_test.comment_text)"
   ]
  },
  {
   "cell_type": "markdown",
   "metadata": {},
   "source": [
    "### Z will give us the sparse matrix for our test data. "
   ]
  },
  {
   "cell_type": "code",
   "execution_count": 165,
   "metadata": {},
   "outputs": [
    {
     "data": {
      "text/plain": [
       "<31915x2373170 sparse matrix of type '<class 'numpy.int64'>'\n",
       "\twith 1258701 stored elements in Compressed Sparse Row format>"
      ]
     },
     "execution_count": 165,
     "metadata": {},
     "output_type": "execute_result"
    }
   ],
   "source": [
    "z"
   ]
  },
  {
   "cell_type": "code",
   "execution_count": 166,
   "metadata": {},
   "outputs": [
    {
     "name": "stdout",
     "output_type": "stream",
     "text": [
      "[0 0 0 ... 0 0 0]\n"
     ]
    }
   ],
   "source": [
    "Toxic_pred=clf.predict(z)\n",
    "print(Toxic_pred)\n"
   ]
  },
  {
   "cell_type": "code",
   "execution_count": 167,
   "metadata": {},
   "outputs": [
    {
     "name": "stdout",
     "output_type": "stream",
     "text": [
      "1232\n"
     ]
    }
   ],
   "source": [
    "print(sum(Toxic_pred))"
   ]
  },
  {
   "cell_type": "markdown",
   "metadata": {},
   "source": [
    "## ABOVE WE GET OUR PREDICTION FOR \"TOXIC\" COMMENTS IN OUR CORPUS"
   ]
  },
  {
   "cell_type": "markdown",
   "metadata": {},
   "source": [
    "# SEVERE TOXIC"
   ]
  },
  {
   "cell_type": "code",
   "execution_count": 168,
   "metadata": {},
   "outputs": [
    {
     "name": "stdout",
     "output_type": "stream",
     "text": [
      "(127656, 7) (127656,)\n",
      "(31915, 7) (31915,)\n",
      "(127656, 2373170)\n",
      "(127656,)\n",
      "[0 0 0 ... 0 0 0]\n",
      "125\n"
     ]
    }
   ],
   "source": [
    "y = df.severe_toxic\n",
    "X_train, X_test, y_train, y_test = train_test_split(df,y, test_size=0.2,random_state= 5)\n",
    "print(X_train.shape, y_train.shape)\n",
    "print(X_test.shape, y_test.shape)\n",
    "####PREDICTING SEVERE TOXIC\n",
    "from sklearn.feature_extraction.text import CountVectorizer\n",
    "cv=CountVectorizer(stop_words='english', ngram_range=(1,2))\n",
    " \n",
    "Severe_toxic_col=X_train.severe_toxic\n",
    "x=cv.fit_transform(X_train.comment_text)\n",
    "print(x.shape)\n",
    "print(Severe_toxic_col.shape)\n",
    "clf= naive_bayes.MultinomialNB()\n",
    "clf.fit(x,Severe_toxic_col)\n",
    "z=cv.transform(X_test.comment_text)\n",
    "Severe_toxic_pred=clf.predict(z)\n",
    "print(Severe_toxic_pred)\n",
    "print(sum(Severe_toxic_pred))"
   ]
  },
  {
   "cell_type": "markdown",
   "metadata": {},
   "source": [
    "## OBSCENE"
   ]
  },
  {
   "cell_type": "code",
   "execution_count": 169,
   "metadata": {},
   "outputs": [
    {
     "name": "stdout",
     "output_type": "stream",
     "text": [
      "(127656, 7) (127656,)\n",
      "(31915, 7) (31915,)\n",
      "(127656, 2373170)\n",
      "(127656,)\n",
      "[0 0 0 ... 0 0 0]\n",
      "678\n"
     ]
    }
   ],
   "source": [
    "y = df.obscene\n",
    "X_train, X_test, y_train, y_test = train_test_split(df,y, test_size=0.2, random_state = 5)\n",
    "print(X_train.shape, y_train.shape)\n",
    "print(X_test.shape, y_test.shape)\n",
    "###PREDICTING OBSCENE\n",
    "from sklearn.feature_extraction.text import CountVectorizer\n",
    "cv=CountVectorizer(stop_words='english', ngram_range=(1,2))\n",
    "Obscene_col=X_train.obscene\n",
    "x=cv.fit_transform(X_train.comment_text)\n",
    "print(x.shape)\n",
    "print(Obscene_col.shape)\n",
    "clf= naive_bayes.MultinomialNB()\n",
    "clf.fit(x,Obscene_col)\n",
    "z=cv.transform(X_test.comment_text)\n",
    "Obscene_pred=clf.predict(z)\n",
    "print(Obscene_pred)\n",
    "print(sum(Obscene_pred))\n"
   ]
  },
  {
   "cell_type": "markdown",
   "metadata": {},
   "source": [
    "## THREAT"
   ]
  },
  {
   "cell_type": "code",
   "execution_count": 172,
   "metadata": {},
   "outputs": [
    {
     "name": "stdout",
     "output_type": "stream",
     "text": [
      "(127656, 7) (127656,)\n",
      "(31915, 7) (31915,)\n",
      "(127656, 2373170)\n",
      "(127656,)\n",
      "[0 0 0 ... 0 0 0]\n",
      "10\n"
     ]
    }
   ],
   "source": [
    "y = df.threat\n",
    "X_train, X_test, y_train, y_test = train_test_split(df,y, test_size=0.2, random_state =5)\n",
    "print(X_train.shape, y_train.shape)\n",
    "print(X_test.shape, y_test.shape)\n",
    "###PREDICTING FOR THREAT\n",
    "from sklearn.feature_extraction.text import CountVectorizer\n",
    "cv=CountVectorizer(stop_words='english', ngram_range=(1,2))\n",
    "Threat_col=X_train.threat\n",
    "x=cv.fit_transform(X_train.comment_text)\n",
    " \n",
    "print(x.shape)\n",
    "print(Threat_col.shape)\n",
    " \n",
    "clf= naive_bayes.MultinomialNB()\n",
    "clf.fit(x,Threat_col)\n",
    "z=cv.transform(X_test.comment_text)\n",
    "Threat_pred=clf.predict(z)\n",
    "print(Threat_pred)\n",
    "print(sum(Threat_pred))"
   ]
  },
  {
   "cell_type": "markdown",
   "metadata": {},
   "source": [
    "## INSULT"
   ]
  },
  {
   "cell_type": "code",
   "execution_count": 173,
   "metadata": {},
   "outputs": [
    {
     "name": "stdout",
     "output_type": "stream",
     "text": [
      "(127656, 7) (127656,)\n",
      "(31915, 7) (31915,)\n",
      "(127656, 2373170)\n",
      "(127656,)\n",
      "[0 0 0 ... 0 0 0]\n",
      "543\n"
     ]
    }
   ],
   "source": [
    "y = df.insult\n",
    "X_train, X_test, y_train, y_test = train_test_split(df,y, test_size=0.2,random_state= 5)\n",
    "print(X_train.shape, y_train.shape)\n",
    "print(X_test.shape, y_test.shape)\n",
    "###PREDICTING FOR INSULT\n",
    "from sklearn.feature_extraction.text import CountVectorizer\n",
    "cv=CountVectorizer(stop_words='english',ngram_range=(1,2))\n",
    "Insult_col=X_train.insult\n",
    "x=cv.fit_transform(X_train.comment_text)\n",
    " \n",
    "print(x.shape)\n",
    "print(Insult_col.shape)\n",
    " \n",
    "clf= naive_bayes.MultinomialNB()\n",
    "clf.fit(x,Insult_col)\n",
    "z=cv.transform(X_test.comment_text)\n",
    "Insult_pred=clf.predict(z)\n",
    "print(Insult_pred)\n",
    "print(sum(Insult_pred))"
   ]
  },
  {
   "cell_type": "markdown",
   "metadata": {},
   "source": [
    "## IDENTITY HATE"
   ]
  },
  {
   "cell_type": "code",
   "execution_count": 214,
   "metadata": {},
   "outputs": [
    {
     "name": "stdout",
     "output_type": "stream",
     "text": [
      "(127656, 7) (127656,)\n",
      "(31915, 7) (31915,)\n",
      "(127656, 2373170)\n",
      "(127656,)\n",
      "[0 0 0 ... 0 0 0]\n",
      "23\n"
     ]
    }
   ],
   "source": [
    "y = df.identity_hate\n",
    "X_train, X_test, y_train, y_test = train_test_split(df,y, test_size=0.2,random_state=5)\n",
    "print(X_train.shape, y_train.shape)\n",
    "print(X_test.shape, y_test.shape)\n",
    "###PREDICTING FOR IDENTITY HATE\n",
    "from sklearn.feature_extraction.text import CountVectorizer\n",
    "cv=CountVectorizer(stop_words='english',ngram_range=(1,2))\n",
    "Identity_hate_col=X_train.identity_hate\n",
    "x=cv.fit_transform(X_train.comment_text)\n",
    "print(x.shape)\n",
    "print(Identity_hate_col.shape)\n",
    " \n",
    "clf = naive_bayes.MultinomialNB()\n",
    "clf.fit(x,Identity_hate_col)\n",
    "z=cv.transform(X_test.comment_text)\n",
    "Identity_hate_pred=clf.predict(z)\n",
    "print(Identity_hate_pred)\n",
    "#Total no. of Identity hate comments predicted\n",
    "print(sum(Identity_hate_pred))"
   ]
  },
  {
   "cell_type": "markdown",
   "metadata": {},
   "source": [
    "## Converting into DataFrame format"
   ]
  },
  {
   "cell_type": "code",
   "execution_count": 175,
   "metadata": {},
   "outputs": [],
   "source": [
    "Toxic=pd.DataFrame(Toxic_pred)\n",
    "Severe_Toxic=pd.DataFrame(Severe_toxic_pred)\n",
    "Obscene=pd.DataFrame(Obscene_pred)\n",
    "Threat=pd.DataFrame(Threat_pred)\n",
    "Insult=pd.DataFrame(Insult_pred)\n",
    "Identity_hate=pd.DataFrame(Identity_hate_pred)"
   ]
  },
  {
   "cell_type": "markdown",
   "metadata": {},
   "source": [
    "## Concatnating different columns"
   ]
  },
  {
   "cell_type": "code",
   "execution_count": 180,
   "metadata": {},
   "outputs": [],
   "source": [
    "Final_pred=pd.concat([Toxic,Severe_Toxic,Obscene,Threat,Insult,Identity_hate],axis=1, ignore_index = True)"
   ]
  },
  {
   "cell_type": "markdown",
   "metadata": {},
   "source": [
    "## Changing Column names for Final_pred"
   ]
  },
  {
   "cell_type": "code",
   "execution_count": 182,
   "metadata": {},
   "outputs": [
    {
     "name": "stdout",
     "output_type": "stream",
     "text": [
      "       toxic  severe_toxic  obscene  threat  insult  identity_hate\n",
      "0          0             0        0       0       0              0\n",
      "1          0             0        0       0       0              0\n",
      "2          0             0        0       0       0              0\n",
      "3          0             0        0       0       0              0\n",
      "4          0             0        0       0       0              0\n",
      "5          0             0        0       0       0              0\n",
      "6          0             0        0       0       0              0\n",
      "7          0             0        0       0       0              0\n",
      "8          0             0        0       0       0              0\n",
      "9          0             0        0       0       0              0\n",
      "10         0             0        0       0       0              0\n",
      "11         0             0        0       0       0              0\n",
      "12         0             0        0       0       0              0\n",
      "13         0             0        0       0       0              0\n",
      "14         0             0        0       0       0              0\n",
      "15         0             0        0       0       0              0\n",
      "16         0             0        0       0       0              0\n",
      "17         0             0        0       0       0              0\n",
      "18         0             0        0       0       0              0\n",
      "19         0             0        0       0       0              0\n",
      "20         0             0        0       0       0              0\n",
      "21         0             0        0       0       0              0\n",
      "22         0             0        0       0       0              0\n",
      "23         0             0        0       0       0              0\n",
      "24         0             0        0       0       0              0\n",
      "25         0             0        0       0       0              0\n",
      "26         0             0        0       0       0              0\n",
      "27         0             0        0       0       0              0\n",
      "28         0             0        0       0       0              0\n",
      "29         0             0        0       0       0              0\n",
      "...      ...           ...      ...     ...     ...            ...\n",
      "31885      0             0        0       0       0              0\n",
      "31886      0             0        0       0       0              0\n",
      "31887      0             0        0       0       0              0\n",
      "31888      0             0        0       0       0              0\n",
      "31889      0             0        0       0       0              0\n",
      "31890      0             0        0       0       0              0\n",
      "31891      0             0        0       0       0              0\n",
      "31892      0             0        0       0       0              0\n",
      "31893      0             0        0       0       0              0\n",
      "31894      0             0        0       0       0              0\n",
      "31895      0             0        0       0       0              0\n",
      "31896      0             0        0       0       0              0\n",
      "31897      0             0        0       0       0              0\n",
      "31898      0             0        0       0       0              0\n",
      "31899      0             0        0       0       0              0\n",
      "31900      0             0        0       0       0              0\n",
      "31901      0             0        0       0       0              0\n",
      "31902      0             0        0       0       0              0\n",
      "31903      0             0        0       0       0              0\n",
      "31904      0             0        0       0       0              0\n",
      "31905      0             0        0       0       0              0\n",
      "31906      0             0        0       0       0              0\n",
      "31907      0             0        0       0       0              0\n",
      "31908      0             0        0       0       0              0\n",
      "31909      0             0        0       0       0              0\n",
      "31910      0             0        0       0       0              0\n",
      "31911      0             0        0       0       0              0\n",
      "31912      0             0        0       0       0              0\n",
      "31913      0             0        0       0       0              0\n",
      "31914      0             0        0       0       0              0\n",
      "\n",
      "[31915 rows x 6 columns]\n"
     ]
    }
   ],
   "source": [
    "print(Final_pred)"
   ]
  },
  {
   "cell_type": "code",
   "execution_count": 183,
   "metadata": {},
   "outputs": [],
   "source": [
    "Final_pred.columns = ['toxic','severe_toxic','obscene','threat','insult','identity_hate']"
   ]
  },
  {
   "cell_type": "markdown",
   "metadata": {},
   "source": [
    "## Saving it into a csv File as \"Final_Prediction\""
   ]
  },
  {
   "cell_type": "code",
   "execution_count": 191,
   "metadata": {},
   "outputs": [],
   "source": [
    "Final_pred.to_csv('Final_Prediction1.csv')"
   ]
  },
  {
   "cell_type": "markdown",
   "metadata": {},
   "source": [
    "#### Results Without ngram"
   ]
  },
  {
   "cell_type": "markdown",
   "metadata": {},
   "source": [
    "##### COMPARING NGRAM RESULTS V/S NON NGRAM RESULTS (Count of toxicity for every column)\n",
    "TOXIC Ngram Toxic =13259 Without Ngram =26263\n",
    "SEVERE TOXIC Ngram Toxic = 1192 Without Ngram =4476\n",
    "OBSCENE Ngram Toxic = 6997 Without Ngram =16454\n",
    "THREAT Ngram Toxic =122 Without Ngram =1101\n",
    "INSULT Ngram Toxic = 15090 Without Ngram =14334\n",
    "IDENTITY HATE Ngram Toxic = 318 Without Ngram =2553"
   ]
  },
  {
   "cell_type": "code",
   "execution_count": 215,
   "metadata": {},
   "outputs": [],
   "source": [
    "testData = X_test[['toxic','severe_toxic','obscene','threat','insult','identity_hate']]"
   ]
  },
  {
   "cell_type": "code",
   "execution_count": 186,
   "metadata": {},
   "outputs": [
    {
     "data": {
      "text/html": [
       "<div>\n",
       "<style scoped>\n",
       "    .dataframe tbody tr th:only-of-type {\n",
       "        vertical-align: middle;\n",
       "    }\n",
       "\n",
       "    .dataframe tbody tr th {\n",
       "        vertical-align: top;\n",
       "    }\n",
       "\n",
       "    .dataframe thead th {\n",
       "        text-align: right;\n",
       "    }\n",
       "</style>\n",
       "<table border=\"1\" class=\"dataframe\">\n",
       "  <thead>\n",
       "    <tr style=\"text-align: right;\">\n",
       "      <th></th>\n",
       "      <th>toxic</th>\n",
       "      <th>severe_toxic</th>\n",
       "      <th>obscene</th>\n",
       "      <th>threat</th>\n",
       "      <th>insult</th>\n",
       "      <th>identity_hate</th>\n",
       "    </tr>\n",
       "  </thead>\n",
       "  <tbody>\n",
       "    <tr>\n",
       "      <th>38367</th>\n",
       "      <td>1</td>\n",
       "      <td>0</td>\n",
       "      <td>1</td>\n",
       "      <td>0</td>\n",
       "      <td>1</td>\n",
       "      <td>0</td>\n",
       "    </tr>\n",
       "    <tr>\n",
       "      <th>81965</th>\n",
       "      <td>0</td>\n",
       "      <td>0</td>\n",
       "      <td>0</td>\n",
       "      <td>0</td>\n",
       "      <td>0</td>\n",
       "      <td>0</td>\n",
       "    </tr>\n",
       "    <tr>\n",
       "      <th>23037</th>\n",
       "      <td>0</td>\n",
       "      <td>0</td>\n",
       "      <td>0</td>\n",
       "      <td>0</td>\n",
       "      <td>0</td>\n",
       "      <td>0</td>\n",
       "    </tr>\n",
       "    <tr>\n",
       "      <th>40710</th>\n",
       "      <td>0</td>\n",
       "      <td>0</td>\n",
       "      <td>0</td>\n",
       "      <td>0</td>\n",
       "      <td>0</td>\n",
       "      <td>0</td>\n",
       "    </tr>\n",
       "    <tr>\n",
       "      <th>30075</th>\n",
       "      <td>0</td>\n",
       "      <td>0</td>\n",
       "      <td>0</td>\n",
       "      <td>0</td>\n",
       "      <td>0</td>\n",
       "      <td>0</td>\n",
       "    </tr>\n",
       "    <tr>\n",
       "      <th>76368</th>\n",
       "      <td>0</td>\n",
       "      <td>0</td>\n",
       "      <td>0</td>\n",
       "      <td>0</td>\n",
       "      <td>0</td>\n",
       "      <td>0</td>\n",
       "    </tr>\n",
       "    <tr>\n",
       "      <th>67945</th>\n",
       "      <td>0</td>\n",
       "      <td>0</td>\n",
       "      <td>0</td>\n",
       "      <td>0</td>\n",
       "      <td>0</td>\n",
       "      <td>0</td>\n",
       "    </tr>\n",
       "    <tr>\n",
       "      <th>121171</th>\n",
       "      <td>0</td>\n",
       "      <td>0</td>\n",
       "      <td>0</td>\n",
       "      <td>0</td>\n",
       "      <td>0</td>\n",
       "      <td>0</td>\n",
       "    </tr>\n",
       "    <tr>\n",
       "      <th>28014</th>\n",
       "      <td>0</td>\n",
       "      <td>0</td>\n",
       "      <td>0</td>\n",
       "      <td>0</td>\n",
       "      <td>0</td>\n",
       "      <td>0</td>\n",
       "    </tr>\n",
       "    <tr>\n",
       "      <th>133798</th>\n",
       "      <td>0</td>\n",
       "      <td>0</td>\n",
       "      <td>0</td>\n",
       "      <td>0</td>\n",
       "      <td>0</td>\n",
       "      <td>0</td>\n",
       "    </tr>\n",
       "    <tr>\n",
       "      <th>110465</th>\n",
       "      <td>0</td>\n",
       "      <td>0</td>\n",
       "      <td>0</td>\n",
       "      <td>0</td>\n",
       "      <td>0</td>\n",
       "      <td>0</td>\n",
       "    </tr>\n",
       "    <tr>\n",
       "      <th>51974</th>\n",
       "      <td>0</td>\n",
       "      <td>0</td>\n",
       "      <td>0</td>\n",
       "      <td>0</td>\n",
       "      <td>0</td>\n",
       "      <td>0</td>\n",
       "    </tr>\n",
       "    <tr>\n",
       "      <th>128264</th>\n",
       "      <td>1</td>\n",
       "      <td>0</td>\n",
       "      <td>0</td>\n",
       "      <td>0</td>\n",
       "      <td>1</td>\n",
       "      <td>0</td>\n",
       "    </tr>\n",
       "    <tr>\n",
       "      <th>17581</th>\n",
       "      <td>0</td>\n",
       "      <td>0</td>\n",
       "      <td>0</td>\n",
       "      <td>0</td>\n",
       "      <td>0</td>\n",
       "      <td>0</td>\n",
       "    </tr>\n",
       "    <tr>\n",
       "      <th>1589</th>\n",
       "      <td>0</td>\n",
       "      <td>0</td>\n",
       "      <td>0</td>\n",
       "      <td>0</td>\n",
       "      <td>0</td>\n",
       "      <td>0</td>\n",
       "    </tr>\n",
       "    <tr>\n",
       "      <th>96648</th>\n",
       "      <td>0</td>\n",
       "      <td>0</td>\n",
       "      <td>0</td>\n",
       "      <td>0</td>\n",
       "      <td>0</td>\n",
       "      <td>0</td>\n",
       "    </tr>\n",
       "    <tr>\n",
       "      <th>153277</th>\n",
       "      <td>0</td>\n",
       "      <td>0</td>\n",
       "      <td>0</td>\n",
       "      <td>0</td>\n",
       "      <td>0</td>\n",
       "      <td>0</td>\n",
       "    </tr>\n",
       "    <tr>\n",
       "      <th>43004</th>\n",
       "      <td>0</td>\n",
       "      <td>0</td>\n",
       "      <td>0</td>\n",
       "      <td>0</td>\n",
       "      <td>0</td>\n",
       "      <td>0</td>\n",
       "    </tr>\n",
       "    <tr>\n",
       "      <th>56604</th>\n",
       "      <td>0</td>\n",
       "      <td>0</td>\n",
       "      <td>0</td>\n",
       "      <td>0</td>\n",
       "      <td>0</td>\n",
       "      <td>0</td>\n",
       "    </tr>\n",
       "    <tr>\n",
       "      <th>127681</th>\n",
       "      <td>0</td>\n",
       "      <td>0</td>\n",
       "      <td>0</td>\n",
       "      <td>0</td>\n",
       "      <td>0</td>\n",
       "      <td>0</td>\n",
       "    </tr>\n",
       "    <tr>\n",
       "      <th>113639</th>\n",
       "      <td>0</td>\n",
       "      <td>0</td>\n",
       "      <td>0</td>\n",
       "      <td>0</td>\n",
       "      <td>0</td>\n",
       "      <td>0</td>\n",
       "    </tr>\n",
       "    <tr>\n",
       "      <th>125607</th>\n",
       "      <td>0</td>\n",
       "      <td>0</td>\n",
       "      <td>0</td>\n",
       "      <td>0</td>\n",
       "      <td>0</td>\n",
       "      <td>0</td>\n",
       "    </tr>\n",
       "    <tr>\n",
       "      <th>9887</th>\n",
       "      <td>0</td>\n",
       "      <td>0</td>\n",
       "      <td>0</td>\n",
       "      <td>0</td>\n",
       "      <td>0</td>\n",
       "      <td>0</td>\n",
       "    </tr>\n",
       "    <tr>\n",
       "      <th>88973</th>\n",
       "      <td>1</td>\n",
       "      <td>0</td>\n",
       "      <td>0</td>\n",
       "      <td>0</td>\n",
       "      <td>0</td>\n",
       "      <td>0</td>\n",
       "    </tr>\n",
       "    <tr>\n",
       "      <th>3576</th>\n",
       "      <td>0</td>\n",
       "      <td>0</td>\n",
       "      <td>0</td>\n",
       "      <td>0</td>\n",
       "      <td>0</td>\n",
       "      <td>0</td>\n",
       "    </tr>\n",
       "    <tr>\n",
       "      <th>16527</th>\n",
       "      <td>0</td>\n",
       "      <td>0</td>\n",
       "      <td>0</td>\n",
       "      <td>0</td>\n",
       "      <td>0</td>\n",
       "      <td>0</td>\n",
       "    </tr>\n",
       "    <tr>\n",
       "      <th>4581</th>\n",
       "      <td>1</td>\n",
       "      <td>0</td>\n",
       "      <td>0</td>\n",
       "      <td>0</td>\n",
       "      <td>1</td>\n",
       "      <td>0</td>\n",
       "    </tr>\n",
       "    <tr>\n",
       "      <th>32063</th>\n",
       "      <td>0</td>\n",
       "      <td>0</td>\n",
       "      <td>0</td>\n",
       "      <td>0</td>\n",
       "      <td>0</td>\n",
       "      <td>0</td>\n",
       "    </tr>\n",
       "    <tr>\n",
       "      <th>51030</th>\n",
       "      <td>0</td>\n",
       "      <td>0</td>\n",
       "      <td>0</td>\n",
       "      <td>0</td>\n",
       "      <td>0</td>\n",
       "      <td>0</td>\n",
       "    </tr>\n",
       "    <tr>\n",
       "      <th>9213</th>\n",
       "      <td>0</td>\n",
       "      <td>0</td>\n",
       "      <td>0</td>\n",
       "      <td>0</td>\n",
       "      <td>0</td>\n",
       "      <td>0</td>\n",
       "    </tr>\n",
       "    <tr>\n",
       "      <th>...</th>\n",
       "      <td>...</td>\n",
       "      <td>...</td>\n",
       "      <td>...</td>\n",
       "      <td>...</td>\n",
       "      <td>...</td>\n",
       "      <td>...</td>\n",
       "    </tr>\n",
       "    <tr>\n",
       "      <th>17216</th>\n",
       "      <td>0</td>\n",
       "      <td>0</td>\n",
       "      <td>0</td>\n",
       "      <td>0</td>\n",
       "      <td>0</td>\n",
       "      <td>0</td>\n",
       "    </tr>\n",
       "    <tr>\n",
       "      <th>77027</th>\n",
       "      <td>0</td>\n",
       "      <td>0</td>\n",
       "      <td>0</td>\n",
       "      <td>0</td>\n",
       "      <td>0</td>\n",
       "      <td>0</td>\n",
       "    </tr>\n",
       "    <tr>\n",
       "      <th>140639</th>\n",
       "      <td>0</td>\n",
       "      <td>0</td>\n",
       "      <td>0</td>\n",
       "      <td>0</td>\n",
       "      <td>0</td>\n",
       "      <td>0</td>\n",
       "    </tr>\n",
       "    <tr>\n",
       "      <th>35196</th>\n",
       "      <td>1</td>\n",
       "      <td>0</td>\n",
       "      <td>0</td>\n",
       "      <td>0</td>\n",
       "      <td>0</td>\n",
       "      <td>0</td>\n",
       "    </tr>\n",
       "    <tr>\n",
       "      <th>96992</th>\n",
       "      <td>0</td>\n",
       "      <td>0</td>\n",
       "      <td>0</td>\n",
       "      <td>0</td>\n",
       "      <td>0</td>\n",
       "      <td>0</td>\n",
       "    </tr>\n",
       "    <tr>\n",
       "      <th>65575</th>\n",
       "      <td>0</td>\n",
       "      <td>0</td>\n",
       "      <td>0</td>\n",
       "      <td>0</td>\n",
       "      <td>0</td>\n",
       "      <td>0</td>\n",
       "    </tr>\n",
       "    <tr>\n",
       "      <th>90643</th>\n",
       "      <td>0</td>\n",
       "      <td>0</td>\n",
       "      <td>0</td>\n",
       "      <td>0</td>\n",
       "      <td>0</td>\n",
       "      <td>0</td>\n",
       "    </tr>\n",
       "    <tr>\n",
       "      <th>71452</th>\n",
       "      <td>1</td>\n",
       "      <td>0</td>\n",
       "      <td>0</td>\n",
       "      <td>0</td>\n",
       "      <td>1</td>\n",
       "      <td>0</td>\n",
       "    </tr>\n",
       "    <tr>\n",
       "      <th>81365</th>\n",
       "      <td>0</td>\n",
       "      <td>0</td>\n",
       "      <td>0</td>\n",
       "      <td>0</td>\n",
       "      <td>0</td>\n",
       "      <td>0</td>\n",
       "    </tr>\n",
       "    <tr>\n",
       "      <th>8329</th>\n",
       "      <td>0</td>\n",
       "      <td>0</td>\n",
       "      <td>0</td>\n",
       "      <td>0</td>\n",
       "      <td>0</td>\n",
       "      <td>0</td>\n",
       "    </tr>\n",
       "    <tr>\n",
       "      <th>86845</th>\n",
       "      <td>0</td>\n",
       "      <td>0</td>\n",
       "      <td>0</td>\n",
       "      <td>0</td>\n",
       "      <td>0</td>\n",
       "      <td>0</td>\n",
       "    </tr>\n",
       "    <tr>\n",
       "      <th>40015</th>\n",
       "      <td>0</td>\n",
       "      <td>0</td>\n",
       "      <td>0</td>\n",
       "      <td>0</td>\n",
       "      <td>0</td>\n",
       "      <td>0</td>\n",
       "    </tr>\n",
       "    <tr>\n",
       "      <th>100216</th>\n",
       "      <td>0</td>\n",
       "      <td>0</td>\n",
       "      <td>0</td>\n",
       "      <td>0</td>\n",
       "      <td>0</td>\n",
       "      <td>0</td>\n",
       "    </tr>\n",
       "    <tr>\n",
       "      <th>141024</th>\n",
       "      <td>0</td>\n",
       "      <td>0</td>\n",
       "      <td>0</td>\n",
       "      <td>0</td>\n",
       "      <td>0</td>\n",
       "      <td>0</td>\n",
       "    </tr>\n",
       "    <tr>\n",
       "      <th>123515</th>\n",
       "      <td>0</td>\n",
       "      <td>0</td>\n",
       "      <td>0</td>\n",
       "      <td>0</td>\n",
       "      <td>0</td>\n",
       "      <td>0</td>\n",
       "    </tr>\n",
       "    <tr>\n",
       "      <th>113274</th>\n",
       "      <td>0</td>\n",
       "      <td>0</td>\n",
       "      <td>0</td>\n",
       "      <td>0</td>\n",
       "      <td>0</td>\n",
       "      <td>0</td>\n",
       "    </tr>\n",
       "    <tr>\n",
       "      <th>80009</th>\n",
       "      <td>0</td>\n",
       "      <td>0</td>\n",
       "      <td>0</td>\n",
       "      <td>0</td>\n",
       "      <td>0</td>\n",
       "      <td>0</td>\n",
       "    </tr>\n",
       "    <tr>\n",
       "      <th>22695</th>\n",
       "      <td>0</td>\n",
       "      <td>0</td>\n",
       "      <td>0</td>\n",
       "      <td>0</td>\n",
       "      <td>0</td>\n",
       "      <td>0</td>\n",
       "    </tr>\n",
       "    <tr>\n",
       "      <th>47156</th>\n",
       "      <td>0</td>\n",
       "      <td>0</td>\n",
       "      <td>0</td>\n",
       "      <td>0</td>\n",
       "      <td>0</td>\n",
       "      <td>0</td>\n",
       "    </tr>\n",
       "    <tr>\n",
       "      <th>86032</th>\n",
       "      <td>0</td>\n",
       "      <td>0</td>\n",
       "      <td>0</td>\n",
       "      <td>0</td>\n",
       "      <td>0</td>\n",
       "      <td>0</td>\n",
       "    </tr>\n",
       "    <tr>\n",
       "      <th>5042</th>\n",
       "      <td>0</td>\n",
       "      <td>0</td>\n",
       "      <td>0</td>\n",
       "      <td>0</td>\n",
       "      <td>0</td>\n",
       "      <td>0</td>\n",
       "    </tr>\n",
       "    <tr>\n",
       "      <th>97176</th>\n",
       "      <td>0</td>\n",
       "      <td>0</td>\n",
       "      <td>0</td>\n",
       "      <td>0</td>\n",
       "      <td>0</td>\n",
       "      <td>0</td>\n",
       "    </tr>\n",
       "    <tr>\n",
       "      <th>137083</th>\n",
       "      <td>0</td>\n",
       "      <td>0</td>\n",
       "      <td>0</td>\n",
       "      <td>0</td>\n",
       "      <td>0</td>\n",
       "      <td>0</td>\n",
       "    </tr>\n",
       "    <tr>\n",
       "      <th>68760</th>\n",
       "      <td>1</td>\n",
       "      <td>0</td>\n",
       "      <td>0</td>\n",
       "      <td>0</td>\n",
       "      <td>1</td>\n",
       "      <td>0</td>\n",
       "    </tr>\n",
       "    <tr>\n",
       "      <th>145259</th>\n",
       "      <td>0</td>\n",
       "      <td>0</td>\n",
       "      <td>0</td>\n",
       "      <td>0</td>\n",
       "      <td>0</td>\n",
       "      <td>0</td>\n",
       "    </tr>\n",
       "    <tr>\n",
       "      <th>12563</th>\n",
       "      <td>0</td>\n",
       "      <td>0</td>\n",
       "      <td>0</td>\n",
       "      <td>0</td>\n",
       "      <td>0</td>\n",
       "      <td>0</td>\n",
       "    </tr>\n",
       "    <tr>\n",
       "      <th>94312</th>\n",
       "      <td>0</td>\n",
       "      <td>0</td>\n",
       "      <td>0</td>\n",
       "      <td>0</td>\n",
       "      <td>0</td>\n",
       "      <td>0</td>\n",
       "    </tr>\n",
       "    <tr>\n",
       "      <th>95575</th>\n",
       "      <td>0</td>\n",
       "      <td>0</td>\n",
       "      <td>0</td>\n",
       "      <td>0</td>\n",
       "      <td>0</td>\n",
       "      <td>0</td>\n",
       "    </tr>\n",
       "    <tr>\n",
       "      <th>56904</th>\n",
       "      <td>0</td>\n",
       "      <td>0</td>\n",
       "      <td>0</td>\n",
       "      <td>0</td>\n",
       "      <td>0</td>\n",
       "      <td>0</td>\n",
       "    </tr>\n",
       "    <tr>\n",
       "      <th>151794</th>\n",
       "      <td>0</td>\n",
       "      <td>0</td>\n",
       "      <td>0</td>\n",
       "      <td>0</td>\n",
       "      <td>0</td>\n",
       "      <td>0</td>\n",
       "    </tr>\n",
       "  </tbody>\n",
       "</table>\n",
       "<p>31915 rows × 6 columns</p>\n",
       "</div>"
      ],
      "text/plain": [
       "        toxic  severe_toxic  obscene  threat  insult  identity_hate\n",
       "38367       1             0        1       0       1              0\n",
       "81965       0             0        0       0       0              0\n",
       "23037       0             0        0       0       0              0\n",
       "40710       0             0        0       0       0              0\n",
       "30075       0             0        0       0       0              0\n",
       "76368       0             0        0       0       0              0\n",
       "67945       0             0        0       0       0              0\n",
       "121171      0             0        0       0       0              0\n",
       "28014       0             0        0       0       0              0\n",
       "133798      0             0        0       0       0              0\n",
       "110465      0             0        0       0       0              0\n",
       "51974       0             0        0       0       0              0\n",
       "128264      1             0        0       0       1              0\n",
       "17581       0             0        0       0       0              0\n",
       "1589        0             0        0       0       0              0\n",
       "96648       0             0        0       0       0              0\n",
       "153277      0             0        0       0       0              0\n",
       "43004       0             0        0       0       0              0\n",
       "56604       0             0        0       0       0              0\n",
       "127681      0             0        0       0       0              0\n",
       "113639      0             0        0       0       0              0\n",
       "125607      0             0        0       0       0              0\n",
       "9887        0             0        0       0       0              0\n",
       "88973       1             0        0       0       0              0\n",
       "3576        0             0        0       0       0              0\n",
       "16527       0             0        0       0       0              0\n",
       "4581        1             0        0       0       1              0\n",
       "32063       0             0        0       0       0              0\n",
       "51030       0             0        0       0       0              0\n",
       "9213        0             0        0       0       0              0\n",
       "...       ...           ...      ...     ...     ...            ...\n",
       "17216       0             0        0       0       0              0\n",
       "77027       0             0        0       0       0              0\n",
       "140639      0             0        0       0       0              0\n",
       "35196       1             0        0       0       0              0\n",
       "96992       0             0        0       0       0              0\n",
       "65575       0             0        0       0       0              0\n",
       "90643       0             0        0       0       0              0\n",
       "71452       1             0        0       0       1              0\n",
       "81365       0             0        0       0       0              0\n",
       "8329        0             0        0       0       0              0\n",
       "86845       0             0        0       0       0              0\n",
       "40015       0             0        0       0       0              0\n",
       "100216      0             0        0       0       0              0\n",
       "141024      0             0        0       0       0              0\n",
       "123515      0             0        0       0       0              0\n",
       "113274      0             0        0       0       0              0\n",
       "80009       0             0        0       0       0              0\n",
       "22695       0             0        0       0       0              0\n",
       "47156       0             0        0       0       0              0\n",
       "86032       0             0        0       0       0              0\n",
       "5042        0             0        0       0       0              0\n",
       "97176       0             0        0       0       0              0\n",
       "137083      0             0        0       0       0              0\n",
       "68760       1             0        0       0       1              0\n",
       "145259      0             0        0       0       0              0\n",
       "12563       0             0        0       0       0              0\n",
       "94312       0             0        0       0       0              0\n",
       "95575       0             0        0       0       0              0\n",
       "56904       0             0        0       0       0              0\n",
       "151794      0             0        0       0       0              0\n",
       "\n",
       "[31915 rows x 6 columns]"
      ]
     },
     "execution_count": 186,
     "metadata": {},
     "output_type": "execute_result"
    }
   ],
   "source": [
    "testData"
   ]
  },
  {
   "cell_type": "code",
   "execution_count": 196,
   "metadata": {},
   "outputs": [
    {
     "data": {
      "text/plain": [
       "Index(['toxic', 'severe_toxic', 'obscene', 'threat', 'insult',\n",
       "       'identity_hate'],\n",
       "      dtype='object')"
      ]
     },
     "execution_count": 196,
     "metadata": {},
     "output_type": "execute_result"
    }
   ],
   "source": [
    "testData.columns"
   ]
  },
  {
   "cell_type": "code",
   "execution_count": 197,
   "metadata": {},
   "outputs": [
    {
     "data": {
      "text/plain": [
       "(31915, 6)"
      ]
     },
     "execution_count": 197,
     "metadata": {},
     "output_type": "execute_result"
    }
   ],
   "source": [
    "testData.shape"
   ]
  },
  {
   "cell_type": "code",
   "execution_count": 198,
   "metadata": {},
   "outputs": [
    {
     "data": {
      "text/plain": [
       "(31915, 6)"
      ]
     },
     "execution_count": 198,
     "metadata": {},
     "output_type": "execute_result"
    }
   ],
   "source": [
    "Final_pred.shape"
   ]
  },
  {
   "cell_type": "code",
   "execution_count": 200,
   "metadata": {},
   "outputs": [],
   "source": [
    "Final_pred.to_csv('Final_Prediction_Toxic_comment.csv')"
   ]
  },
  {
   "cell_type": "markdown",
   "metadata": {},
   "source": [
    "# ACCURACY"
   ]
  },
  {
   "cell_type": "code",
   "execution_count": 210,
   "metadata": {},
   "outputs": [
    {
     "name": "stdout",
     "output_type": "stream",
     "text": [
      "Final Accuracy is :90.93843020523265 %\n"
     ]
    }
   ],
   "source": [
    "from sklearn.metrics import accuracy_score\n",
    "Accuracy=accuracy_score(testData,Final_pred)\n",
    "print('Final Accuracy is :{} %'.format(Accuracy*100)\n",
    "                        "
   ]
  },
  {
   "cell_type": "markdown",
   "metadata": {},
   "source": [
    "# SIMILARITY"
   ]
  },
  {
   "cell_type": "code",
   "execution_count": 211,
   "metadata": {},
   "outputs": [
    {
     "name": "stdout",
     "output_type": "stream",
     "text": [
      "Final Similarity Score is :92.24335474437308 %\n"
     ]
    }
   ],
   "source": [
    "from sklearn.metrics import jaccard_similarity_score\n",
    "Similarity=jaccard_similarity_score(Final_pred, testData)\n",
    "print('Final Similarity Score is :{} %'.format(Similarity*100))"
   ]
  },
  {
   "cell_type": "markdown",
   "metadata": {},
   "source": [
    "# Now For non n-gram Naive Bayes"
   ]
  },
  {
   "cell_type": "markdown",
   "metadata": {},
   "source": [
    "# Toxic"
   ]
  },
  {
   "cell_type": "code",
   "execution_count": 217,
   "metadata": {},
   "outputs": [
    {
     "name": "stdout",
     "output_type": "stream",
     "text": [
      "(127656, 7) (127656,)\n",
      "(31915, 7) (31915,)\n",
      "(127656, 165188)\n",
      "(127656,)\n",
      "[1 0 0 ... 0 0 0]\n",
      "2231\n"
     ]
    }
   ],
   "source": [
    "y = df.toxic\n",
    "X_train, X_test, y_train, y_test = train_test_split(df,y, test_size=0.2,random_state= 5)\n",
    "print(X_train.shape, y_train.shape)\n",
    "print(X_test.shape, y_test.shape)\n",
    "####PREDICTING SEVERE TOXIC\n",
    "from sklearn.feature_extraction.text import CountVectorizer\n",
    "cv=CountVectorizer(stop_words='english')\n",
    " \n",
    "Toxic_col=X_train.toxic\n",
    "x=cv.fit_transform(X_train.comment_text)\n",
    "print(x.shape)\n",
    "print(Toxic_col.shape)\n",
    "clf= naive_bayes.MultinomialNB()\n",
    "clf.fit(x,Toxic_col)\n",
    "z=cv.transform(X_test.comment_text)\n",
    "Toxic_pred=clf.predict(z)\n",
    "print(Toxic_pred)\n",
    "print(sum(Toxic_pred))"
   ]
  },
  {
   "cell_type": "markdown",
   "metadata": {},
   "source": [
    "# Severe Toxic"
   ]
  },
  {
   "cell_type": "code",
   "execution_count": 218,
   "metadata": {},
   "outputs": [
    {
     "name": "stdout",
     "output_type": "stream",
     "text": [
      "(127656, 7) (127656,)\n",
      "(31915, 7) (31915,)\n",
      "(127656, 165188)\n",
      "(127656,)\n",
      "[0 0 0 ... 0 0 0]\n",
      "322\n"
     ]
    }
   ],
   "source": [
    "y = df.severe_toxic\n",
    "X_train, X_test, y_train, y_test = train_test_split(df,y, test_size=0.2,random_state= 5)\n",
    "print(X_train.shape, y_train.shape)\n",
    "print(X_test.shape, y_test.shape)\n",
    "####PREDICTING SEVERE TOXIC\n",
    "from sklearn.feature_extraction.text import CountVectorizer\n",
    "cv=CountVectorizer(stop_words='english')\n",
    " \n",
    "Severe_toxic_col=X_train.severe_toxic\n",
    "x=cv.fit_transform(X_train.comment_text)\n",
    "print(x.shape)\n",
    "print(Severe_toxic_col.shape)\n",
    "clf= naive_bayes.MultinomialNB()\n",
    "clf.fit(x,Severe_toxic_col)\n",
    "z=cv.transform(X_test.comment_text)\n",
    "Severe_toxic_pred=clf.predict(z)\n",
    "print(Severe_toxic_pred)\n",
    "print(sum(Severe_toxic_pred))"
   ]
  },
  {
   "cell_type": "markdown",
   "metadata": {},
   "source": [
    "# Obscene"
   ]
  },
  {
   "cell_type": "code",
   "execution_count": 219,
   "metadata": {},
   "outputs": [
    {
     "name": "stdout",
     "output_type": "stream",
     "text": [
      "(127656, 7) (127656,)\n",
      "(31915, 7) (31915,)\n",
      "(127656, 165188)\n",
      "(127656,)\n",
      "[0 0 0 ... 0 0 0]\n",
      "1354\n"
     ]
    }
   ],
   "source": [
    "y = df.obscene\n",
    "X_train, X_test, y_train, y_test = train_test_split(df,y, test_size=0.2, random_state = 5)\n",
    "print(X_train.shape, y_train.shape)\n",
    "print(X_test.shape, y_test.shape)\n",
    "###PREDICTING OBSCENE\n",
    "from sklearn.feature_extraction.text import CountVectorizer\n",
    "cv=CountVectorizer(stop_words='english')\n",
    "Obscene_col=X_train.obscene\n",
    "x=cv.fit_transform(X_train.comment_text)\n",
    "print(x.shape)\n",
    "print(Obscene_col.shape)\n",
    "clf= naive_bayes.MultinomialNB()\n",
    "clf.fit(x,Obscene_col)\n",
    "z=cv.transform(X_test.comment_text)\n",
    "Obscene_pred=clf.predict(z)\n",
    "print(Obscene_pred)\n",
    "print(sum(Obscene_pred))"
   ]
  },
  {
   "cell_type": "markdown",
   "metadata": {},
   "source": [
    "# Threat"
   ]
  },
  {
   "cell_type": "code",
   "execution_count": 220,
   "metadata": {},
   "outputs": [
    {
     "name": "stdout",
     "output_type": "stream",
     "text": [
      "(127656, 7) (127656,)\n",
      "(31915, 7) (31915,)\n",
      "(127656, 165188)\n",
      "(127656,)\n",
      "[0 0 0 ... 0 0 0]\n",
      "33\n"
     ]
    }
   ],
   "source": [
    "y = df.threat\n",
    "X_train, X_test, y_train, y_test = train_test_split(df,y, test_size=0.2, random_state =5)\n",
    "print(X_train.shape, y_train.shape)\n",
    "print(X_test.shape, y_test.shape)\n",
    "###PREDICTING FOR THREAT\n",
    "from sklearn.feature_extraction.text import CountVectorizer\n",
    "cv=CountVectorizer(stop_words='english')\n",
    "Threat_col=X_train.threat\n",
    "x=cv.fit_transform(X_train.comment_text)\n",
    " \n",
    "print(x.shape)\n",
    "print(Threat_col.shape)\n",
    " \n",
    "clf= naive_bayes.MultinomialNB()\n",
    "clf.fit(x,Threat_col)\n",
    "z=cv.transform(X_test.comment_text)\n",
    "Threat_pred=clf.predict(z)\n",
    "print(Threat_pred)\n",
    "print(sum(Threat_pred))"
   ]
  },
  {
   "cell_type": "markdown",
   "metadata": {},
   "source": [
    "# Insult"
   ]
  },
  {
   "cell_type": "code",
   "execution_count": 221,
   "metadata": {},
   "outputs": [
    {
     "name": "stdout",
     "output_type": "stream",
     "text": [
      "(127656, 7) (127656,)\n",
      "(31915, 7) (31915,)\n",
      "(127656, 165188)\n",
      "(127656,)\n",
      "[0 0 0 ... 0 0 0]\n",
      "1220\n"
     ]
    }
   ],
   "source": [
    "y = df.insult\n",
    "X_train, X_test, y_train, y_test = train_test_split(df,y, test_size=0.2,random_state= 5)\n",
    "print(X_train.shape, y_train.shape)\n",
    "print(X_test.shape, y_test.shape)\n",
    "###PREDICTING FOR INSULT\n",
    "from sklearn.feature_extraction.text import CountVectorizer\n",
    "cv=CountVectorizer(stop_words='english')\n",
    "Insult_col=X_train.insult\n",
    "x=cv.fit_transform(X_train.comment_text)\n",
    " \n",
    "print(x.shape)\n",
    "print(Insult_col.shape)\n",
    " \n",
    "clf= naive_bayes.MultinomialNB()\n",
    "clf.fit(x,Insult_col)\n",
    "z=cv.transform(X_test.comment_text)\n",
    "Insult_pred=clf.predict(z)\n",
    "print(Insult_pred)\n",
    "print(sum(Insult_pred))"
   ]
  },
  {
   "cell_type": "markdown",
   "metadata": {},
   "source": [
    "# Identity Hate"
   ]
  },
  {
   "cell_type": "code",
   "execution_count": 222,
   "metadata": {},
   "outputs": [
    {
     "name": "stdout",
     "output_type": "stream",
     "text": [
      "(127656, 7) (127656,)\n",
      "(31915, 7) (31915,)\n",
      "(127656, 165188)\n",
      "(127656,)\n",
      "[0 0 0 ... 0 0 0]\n",
      "119\n"
     ]
    }
   ],
   "source": [
    "y = df.identity_hate\n",
    "X_train, X_test, y_train, y_test = train_test_split(df,y, test_size=0.2,random_state=5)\n",
    "print(X_train.shape, y_train.shape)\n",
    "print(X_test.shape, y_test.shape)\n",
    "###PREDICTING FOR IDENTITY HATE\n",
    "from sklearn.feature_extraction.text import CountVectorizer\n",
    "cv=CountVectorizer(stop_words='english')\n",
    "Identity_hate_col=X_train.identity_hate\n",
    "x=cv.fit_transform(X_train.comment_text)\n",
    "print(x.shape)\n",
    "print(Identity_hate_col.shape)\n",
    " \n",
    "clf = naive_bayes.MultinomialNB()\n",
    "clf.fit(x,Identity_hate_col)\n",
    "z=cv.transform(X_test.comment_text)\n",
    "Identity_hate_pred=clf.predict(z)\n",
    "print(Identity_hate_pred)\n",
    "#Total no. of Identity hate comments predicted\n",
    "print(sum(Identity_hate_pred))"
   ]
  },
  {
   "cell_type": "markdown",
   "metadata": {},
   "source": [
    "# Converting Into DataFrame"
   ]
  },
  {
   "cell_type": "code",
   "execution_count": 226,
   "metadata": {},
   "outputs": [],
   "source": [
    "Toxic=pd.DataFrame(Toxic_pred)\n",
    "Severe_Toxic=pd.DataFrame(Severe_toxic_pred)\n",
    "Obscene=pd.DataFrame(Obscene_pred)\n",
    "Threat=pd.DataFrame(Threat_pred)\n",
    "Insult=pd.DataFrame(Insult_pred)\n",
    "Identity_hate=pd.DataFrame(Identity_hate_pred)"
   ]
  },
  {
   "cell_type": "code",
   "execution_count": 227,
   "metadata": {},
   "outputs": [],
   "source": [
    "Final_pred2=pd.concat([Toxic,Severe_Toxic,Obscene,Threat,Insult,Identity_hate],axis=1, ignore_index = True)"
   ]
  },
  {
   "cell_type": "code",
   "execution_count": 228,
   "metadata": {},
   "outputs": [],
   "source": [
    "Final_pred2.columns = ['toxic','severe_toxic','obscene','threat','insult','identity_hate']"
   ]
  },
  {
   "cell_type": "code",
   "execution_count": 229,
   "metadata": {},
   "outputs": [],
   "source": [
    "Final_pred2.to_csv('Final_Prediction2.csv')"
   ]
  },
  {
   "cell_type": "markdown",
   "metadata": {},
   "source": [
    "# Test Data Now"
   ]
  },
  {
   "cell_type": "code",
   "execution_count": 230,
   "metadata": {},
   "outputs": [],
   "source": [
    "testData = X_test[['toxic','severe_toxic','obscene','threat','insult','identity_hate']]"
   ]
  },
  {
   "cell_type": "code",
   "execution_count": 231,
   "metadata": {},
   "outputs": [
    {
     "data": {
      "text/plain": [
       "(31915, 6)"
      ]
     },
     "execution_count": 231,
     "metadata": {},
     "output_type": "execute_result"
    }
   ],
   "source": [
    "testData.shape"
   ]
  },
  {
   "cell_type": "code",
   "execution_count": 233,
   "metadata": {},
   "outputs": [
    {
     "data": {
      "text/plain": [
       "(31915, 6)"
      ]
     },
     "execution_count": 233,
     "metadata": {},
     "output_type": "execute_result"
    }
   ],
   "source": [
    "Final_pred2.shape"
   ]
  },
  {
   "cell_type": "markdown",
   "metadata": {},
   "source": [
    "# Accuracy without N-Gram"
   ]
  },
  {
   "cell_type": "code",
   "execution_count": 234,
   "metadata": {},
   "outputs": [
    {
     "name": "stdout",
     "output_type": "stream",
     "text": [
      "Final Accuracy is :90.86949710167633 %\n"
     ]
    }
   ],
   "source": [
    "from sklearn.metrics import accuracy_score\n",
    "Accuracy1=accuracy_score(testData,Final_pred2)\n",
    "print('Final Accuracy is :{} %'.format(Accuracy1*100))"
   ]
  },
  {
   "cell_type": "markdown",
   "metadata": {},
   "source": [
    "# Similarity without N-Gram"
   ]
  },
  {
   "cell_type": "code",
   "execution_count": 235,
   "metadata": {},
   "outputs": [
    {
     "name": "stdout",
     "output_type": "stream",
     "text": [
      "Final Similarity Score is :92.96762233014779 %\n"
     ]
    }
   ],
   "source": [
    "from sklearn.metrics import jaccard_similarity_score\n",
    "Similarity1=jaccard_similarity_score(Final_pred2, testData)\n",
    "print('Final Similarity Score is :{} %'.format(Similarity1*100))"
   ]
  },
  {
   "cell_type": "markdown",
   "metadata": {},
   "source": [
    "# KNN(K- Nearest Neighbours)"
   ]
  },
  {
   "cell_type": "code",
   "execution_count": null,
   "metadata": {},
   "outputs": [],
   "source": []
  },
  {
   "cell_type": "code",
   "execution_count": null,
   "metadata": {},
   "outputs": [],
   "source": []
  },
  {
   "cell_type": "code",
   "execution_count": null,
   "metadata": {},
   "outputs": [],
   "source": []
  },
  {
   "cell_type": "code",
   "execution_count": null,
   "metadata": {},
   "outputs": [],
   "source": []
  },
  {
   "cell_type": "code",
   "execution_count": null,
   "metadata": {},
   "outputs": [],
   "source": []
  },
  {
   "cell_type": "code",
   "execution_count": null,
   "metadata": {},
   "outputs": [],
   "source": []
  },
  {
   "cell_type": "code",
   "execution_count": null,
   "metadata": {},
   "outputs": [],
   "source": []
  },
  {
   "cell_type": "code",
   "execution_count": null,
   "metadata": {},
   "outputs": [],
   "source": []
  },
  {
   "cell_type": "code",
   "execution_count": null,
   "metadata": {},
   "outputs": [],
   "source": []
  },
  {
   "cell_type": "code",
   "execution_count": null,
   "metadata": {},
   "outputs": [],
   "source": []
  },
  {
   "cell_type": "code",
   "execution_count": null,
   "metadata": {},
   "outputs": [],
   "source": []
  },
  {
   "cell_type": "code",
   "execution_count": null,
   "metadata": {},
   "outputs": [],
   "source": []
  },
  {
   "cell_type": "code",
   "execution_count": null,
   "metadata": {},
   "outputs": [],
   "source": []
  },
  {
   "cell_type": "code",
   "execution_count": null,
   "metadata": {},
   "outputs": [],
   "source": []
  },
  {
   "cell_type": "code",
   "execution_count": null,
   "metadata": {},
   "outputs": [],
   "source": []
  },
  {
   "cell_type": "markdown",
   "metadata": {},
   "source": [
    "## Support Vector Machines"
   ]
  },
  {
   "cell_type": "code",
   "execution_count": null,
   "metadata": {},
   "outputs": [],
   "source": []
  }
 ],
 "metadata": {
  "kernelspec": {
   "display_name": "Python 3",
   "language": "python",
   "name": "python3"
  },
  "language_info": {
   "codemirror_mode": {
    "name": "ipython",
    "version": 3
   },
   "file_extension": ".py",
   "mimetype": "text/x-python",
   "name": "python",
   "nbconvert_exporter": "python",
   "pygments_lexer": "ipython3",
   "version": "3.6.3"
  }
 },
 "nbformat": 4,
 "nbformat_minor": 2
}
